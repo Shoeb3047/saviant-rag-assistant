{
 "cells": [
  {
   "cell_type": "code",
   "execution_count": 1,
   "id": "1c034c52",
   "metadata": {},
   "outputs": [],
   "source": [
    "from langsmith import Client\n",
    "from dotenv import load_dotenv\n",
    "\n",
    "load_dotenv()\n",
    "\n",
    "client = Client()\n",
    "\n",
    "# Find your dataset by name\n",
    "datasets = client.list_datasets(dataset_name=\"Saviant RAG Test Dataset\")\n",
    "\n",
    "\n"
   ]
  },
  {
   "cell_type": "code",
   "execution_count": null,
   "id": "182de9c8",
   "metadata": {},
   "outputs": [
    {
     "data": {
      "text/plain": [
       "<generator object Client.list_datasets at 0x113b5d470>"
      ]
     },
     "execution_count": 3,
     "metadata": {},
     "output_type": "execute_result"
    }
   ],
   "source": [
    "dataset = next(datasets, None)\n",
    "\n",
    "\n",
    "\n"
   ]
  },
  {
   "cell_type": "code",
   "execution_count": 8,
   "id": "993f9c2f",
   "metadata": {},
   "outputs": [
    {
     "ename": "ValueError",
     "evalue": "Must pass in (exactly) one of 'updates' or 'example_ids'.",
     "output_type": "error",
     "traceback": [
      "\u001b[31m---------------------------------------------------------------------------\u001b[39m",
      "\u001b[31mValueError\u001b[39m                                Traceback (most recent call last)",
      "\u001b[36mCell\u001b[39m\u001b[36m \u001b[39m\u001b[32mIn[8]\u001b[39m\u001b[32m, line 3\u001b[39m\n\u001b[32m      1\u001b[39m \u001b[38;5;66;03m# # Update metadata\u001b[39;00m\n\u001b[32m      2\u001b[39m \u001b[38;5;28;01mif\u001b[39;00m dataset:\n\u001b[32m----> \u001b[39m\u001b[32m3\u001b[39m     \u001b[43mclient\u001b[49m\u001b[43m.\u001b[49m\u001b[43mupdate_examples\u001b[49m\u001b[43m(\u001b[49m\n\u001b[32m      4\u001b[39m \u001b[43m        \u001b[49m\u001b[43mexamples\u001b[49m\u001b[43m \u001b[49m\u001b[43m=\u001b[49m\u001b[43m \u001b[49m\u001b[43m[\u001b[49m\u001b[43mexample\u001b[49m\u001b[43m.\u001b[49m\u001b[43mid\u001b[49m\u001b[43m \u001b[49m\u001b[38;5;28;43;01mfor\u001b[39;49;00m\u001b[43m \u001b[49m\u001b[43mexample\u001b[49m\u001b[43m \u001b[49m\u001b[38;5;129;43;01min\u001b[39;49;00m\u001b[43m \u001b[49m\u001b[43mclient\u001b[49m\u001b[43m.\u001b[49m\u001b[43mlist_examples\u001b[49m\u001b[43m(\u001b[49m\u001b[43mdataset_id\u001b[49m\u001b[43m=\u001b[49m\u001b[43mdataset\u001b[49m\u001b[43m.\u001b[49m\u001b[43mid\u001b[49m\u001b[43m)\u001b[49m\u001b[43m]\u001b[49m\u001b[43m,\u001b[49m\n\u001b[32m      5\u001b[39m \u001b[43m        \u001b[49m\u001b[43mdataset_id\u001b[49m\u001b[43m=\u001b[49m\u001b[43mdataset\u001b[49m\u001b[43m.\u001b[49m\u001b[43mid\u001b[49m\u001b[43m,\u001b[49m\n\u001b[32m      6\u001b[39m \u001b[43m        \u001b[49m\u001b[43mmetadata\u001b[49m\u001b[43m=\u001b[49m\u001b[43m{\u001b[49m\u001b[33;43m\"\u001b[39;49m\u001b[33;43mtag\u001b[39;49m\u001b[33;43m\"\u001b[39;49m\u001b[43m:\u001b[49m\u001b[43m \u001b[49m\u001b[33;43m\"\u001b[39;49m\u001b[33;43mSaviantTestSet\u001b[39;49m\u001b[33;43m\"\u001b[39;49m\u001b[43m,\u001b[49m\u001b[43m \u001b[49m\u001b[33;43m\"\u001b[39;49m\u001b[33;43msource\u001b[39;49m\u001b[33;43m\"\u001b[39;49m\u001b[43m:\u001b[49m\u001b[43m \u001b[49m\u001b[33;43m\"\u001b[39;49m\u001b[33;43mcsv-upload\u001b[39;49m\u001b[33;43m\"\u001b[39;49m\u001b[43m,\u001b[49m\u001b[43m \u001b[49m\u001b[33;43m\"\u001b[39;49m\u001b[33;43mpurpose\u001b[39;49m\u001b[33;43m\"\u001b[39;49m\u001b[43m:\u001b[49m\u001b[43m \u001b[49m\u001b[33;43m\"\u001b[39;49m\u001b[33;43mevaluation\u001b[39;49m\u001b[33;43m\"\u001b[39;49m\u001b[43m}\u001b[49m\n\u001b[32m      7\u001b[39m \u001b[43m    \u001b[49m\u001b[43m)\u001b[49m\n",
      "\u001b[36mFile \u001b[39m\u001b[32m~/Desktop/clients_apps/saviant_app/.venv/lib/python3.13/site-packages/langsmith/client.py:5290\u001b[39m, in \u001b[36mClient.update_examples\u001b[39m\u001b[34m(self, dataset_name, dataset_id, updates, dangerously_allow_filesystem, **kwargs)\u001b[39m\n\u001b[32m   5288\u001b[39m example_ids = kwargs.get(\u001b[33m\"\u001b[39m\u001b[33mexample_ids\u001b[39m\u001b[33m\"\u001b[39m, \u001b[38;5;28;01mNone\u001b[39;00m)\n\u001b[32m   5289\u001b[39m \u001b[38;5;28;01mif\u001b[39;00m \u001b[38;5;129;01mnot\u001b[39;00m example_ids:\n\u001b[32m-> \u001b[39m\u001b[32m5290\u001b[39m     \u001b[38;5;28;01mraise\u001b[39;00m \u001b[38;5;167;01mValueError\u001b[39;00m(\n\u001b[32m   5291\u001b[39m         \u001b[33m\"\u001b[39m\u001b[33mMust pass in (exactly) one of \u001b[39m\u001b[33m'\u001b[39m\u001b[33mupdates\u001b[39m\u001b[33m'\u001b[39m\u001b[33m or \u001b[39m\u001b[33m'\u001b[39m\u001b[33mexample_ids\u001b[39m\u001b[33m'\u001b[39m\u001b[33m.\u001b[39m\u001b[33m\"\u001b[39m\n\u001b[32m   5292\u001b[39m     )\n\u001b[32m   5293\u001b[39m \u001b[38;5;28;01mif\u001b[39;00m \u001b[38;5;129;01mnot\u001b[39;00m dataset_id:\n\u001b[32m   5294\u001b[39m     \u001b[38;5;28;01mif\u001b[39;00m \u001b[33m\"\u001b[39m\u001b[33mdataset_ids\u001b[39m\u001b[33m\"\u001b[39m \u001b[38;5;129;01mnot\u001b[39;00m \u001b[38;5;129;01min\u001b[39;00m kwargs:\n\u001b[32m   5295\u001b[39m         \u001b[38;5;66;03m# Assume all examples belong to same dataset\u001b[39;00m\n",
      "\u001b[31mValueError\u001b[39m: Must pass in (exactly) one of 'updates' or 'example_ids'."
     ]
    }
   ],
   "source": [
    "\n",
    "# # Update metadata\n",
    "if dataset:\n",
    "    client.update_examples(\n",
    "        examples = [example.id for example in client.list_examples(dataset_id=dataset.id)],\n",
    "        dataset_id=dataset.id,\n",
    "        metadata={\"tag\": \"SaviantTestSet\", \"source\": \"csv-upload\", \"purpose\": \"evaluation\"}\n",
    "    )"
   ]
  },
  {
   "cell_type": "code",
   "execution_count": null,
   "id": "316faa94",
   "metadata": {},
   "outputs": [],
   "source": []
  },
  {
   "cell_type": "code",
   "execution_count": 5,
   "id": "72a1427b",
   "metadata": {},
   "outputs": [
    {
     "name": "stdout",
     "output_type": "stream",
     "text": [
      "Example ID: 028ffb88-2826-4d10-8289-9921d8c20f73\n",
      "Example ID: 439ebd7a-ca1b-4f1c-9b25-be327587b095\n",
      "Example ID: 4921dabf-4cd4-47bc-b45d-fd0e0e0992ab\n",
      "Example ID: 7678c5bc-5450-4c31-b14f-17497cc720bc\n",
      "Example ID: 8c218817-5291-4e50-b6cf-9f1bea2fac45\n"
     ]
    }
   ],
   "source": [
    "if dataset:\n",
    "    # Step 2: Get all examples from the dataset\n",
    "    examples = client.list_examples(dataset_id=dataset.id)\n",
    "    \n",
    "    # Step 3: Print all example IDs\n",
    "    for example in examples:\n",
    "        print(f\"Example ID: {example.id}\")\n",
    "else:\n",
    "    print(f\"No dataset found with name: {dataset_name}\")"
   ]
  },
  {
   "cell_type": "code",
   "execution_count": 6,
   "id": "3401c4d1",
   "metadata": {},
   "outputs": [
    {
     "data": {
      "text/plain": [
       "[UUID('028ffb88-2826-4d10-8289-9921d8c20f73'),\n",
       " UUID('439ebd7a-ca1b-4f1c-9b25-be327587b095'),\n",
       " UUID('4921dabf-4cd4-47bc-b45d-fd0e0e0992ab'),\n",
       " UUID('7678c5bc-5450-4c31-b14f-17497cc720bc'),\n",
       " UUID('8c218817-5291-4e50-b6cf-9f1bea2fac45')]"
      ]
     },
     "execution_count": 6,
     "metadata": {},
     "output_type": "execute_result"
    }
   ],
   "source": [
    "\n",
    "        \n",
    "[example.id for example in client.list_examples(dataset_id=dataset.id)]"
   ]
  },
  {
   "cell_type": "code",
   "execution_count": 10,
   "id": "abbadde3",
   "metadata": {},
   "outputs": [],
   "source": [
    "if dataset:\n",
    "    example_ids = [example.id for example in client.list_examples(dataset_id=dataset.id)]\n",
    "\n",
    "    metadata_list = [{\n",
    "        \"tag\": \"SaviantTestSet\",\n",
    "        \"source\": \"csv-upload\",\n",
    "        \"purpose\": \"evaluation\"\n",
    "    }] * len(example_ids)  # repeat the same metadata for all\n",
    "\n",
    "    client.update_examples(\n",
    "        example_ids=example_ids,\n",
    "        dataset_id=dataset.id,\n",
    "        metadata=metadata_list  # pass a list of dicts\n",
    "    )\n"
   ]
  }
 ],
 "metadata": {
  "kernelspec": {
   "display_name": ".venv",
   "language": "python",
   "name": "python3"
  },
  "language_info": {
   "codemirror_mode": {
    "name": "ipython",
    "version": 3
   },
   "file_extension": ".py",
   "mimetype": "text/x-python",
   "name": "python",
   "nbconvert_exporter": "python",
   "pygments_lexer": "ipython3",
   "version": "3.13.4"
  }
 },
 "nbformat": 4,
 "nbformat_minor": 5
}
